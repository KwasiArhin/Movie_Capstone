{
  "nbformat": 4,
  "nbformat_minor": 0,
  "metadata": {
    "kernelspec": {
      "name": "python3",
      "display_name": "Python 3"
    },
    "language_info": {
      "codemirror_mode": {
        "name": "ipython",
        "version": 3
      },
      "file_extension": ".py",
      "mimetype": "text/x-python",
      "name": "python",
      "nbconvert_exporter": "python",
      "pygments_lexer": "ipython3",
      "version": "3.7.0"
    },
    "colab": {
      "name": "TensorFlow Capstone",
      "provenance": [],
      "collapsed_sections": [],
      "toc_visible": true,
      "include_colab_link": true
    },
    "accelerator": "GPU"
  },
  "cells": [
    {
      "cell_type": "markdown",
      "metadata": {
        "id": "view-in-github",
        "colab_type": "text"
      },
      "source": [
        "<a href=\"https://colab.research.google.com/github/KwasiArhin/Movie_Capstone/blob/master/TensorFlow_Capstone.ipynb\" target=\"_parent\"><img src=\"https://colab.research.google.com/assets/colab-badge.svg\" alt=\"Open In Colab\"/></a>"
      ]
    },
    {
      "cell_type": "markdown",
      "metadata": {
        "id": "HtXQjTSu4yT0",
        "colab_type": "text"
      },
      "source": [
        "# Project Background"
      ]
    },
    {
      "cell_type": "markdown",
      "metadata": {
        "id": "O_Qc07HT41jQ",
        "colab_type": "text"
      },
      "source": [
        ""
      ]
    },
    {
      "cell_type": "markdown",
      "metadata": {
        "id": "DuT0K8LDKm45",
        "colab_type": "text"
      },
      "source": [
        "# Imports"
      ]
    },
    {
      "cell_type": "code",
      "metadata": {
        "id": "6swIc-rGKm47",
        "colab_type": "code",
        "colab": {}
      },
      "source": [
        "import numpy as np\n",
        "import pandas as pd\n",
        "import matplotlib.pyplot as plt\n",
        "\n",
        "#Tensorflow dependcies\n",
        "from tensorflow.keras.preprocessing.image import ImageDataGenerator\n",
        "from tensorflow.keras.models import Sequential\n",
        "from tensorflow.keras.layers import Conv2D, MaxPooling2D\n",
        "from tensorflow.keras.layers import Activation, Dropout, Flatten, Dense, BatchNormalization \n",
        "from tensorflow.keras import backend as K\n",
        "from tensorflow.keras.models import load_model \n",
        "\n",
        "\n",
        "import json"
      ],
      "execution_count": 0,
      "outputs": []
    },
    {
      "cell_type": "code",
      "metadata": {
        "id": "3KjEpAFkYKUW",
        "colab_type": "code",
        "outputId": "f02d9184-5323-4d5b-f36d-4a33f2e6e2a5",
        "colab": {
          "base_uri": "https://localhost:8080/",
          "height": 131
        }
      },
      "source": [
        "#mounting my google drive \n",
        "from google.colab import drive\n",
        "drive.mount('/content/drive')"
      ],
      "execution_count": 0,
      "outputs": [
        {
          "output_type": "stream",
          "text": [
            "Go to this URL in a browser: https://accounts.google.com/o/oauth2/auth?client_id=947318989803-6bn6qk8qdgf4n4g3pfee6491hc0brc4i.apps.googleusercontent.com&redirect_uri=urn%3aietf%3awg%3aoauth%3a2.0%3aoob&response_type=code&scope=email%20https%3a%2f%2fwww.googleapis.com%2fauth%2fdocs.test%20https%3a%2f%2fwww.googleapis.com%2fauth%2fdrive%20https%3a%2f%2fwww.googleapis.com%2fauth%2fdrive.photos.readonly%20https%3a%2f%2fwww.googleapis.com%2fauth%2fpeopleapi.readonly\n",
            "\n",
            "Enter your authorization code:\n",
            "··········\n",
            "Mounted at /content/drive\n"
          ],
          "name": "stdout"
        }
      ]
    },
    {
      "cell_type": "markdown",
      "metadata": {
        "id": "P5qn1lDa5OSI",
        "colab_type": "text"
      },
      "source": [
        "# The Dataset"
      ]
    },
    {
      "cell_type": "code",
      "metadata": {
        "id": "WxuDmAQlKm4-",
        "colab_type": "code",
        "colab": {}
      },
      "source": [
        "#Reading in my data \n",
        "data = \"/content/drive/My Drive/Shot Classification Capstone/Train\"\n",
        "\n",
        "#Setting the sizing for the images\n",
        "img_width, img_height = 150, 150\n",
        "batch_size = 80"
      ],
      "execution_count": 0,
      "outputs": []
    },
    {
      "cell_type": "code",
      "metadata": {
        "id": "SCfRV8VGKm5A",
        "colab_type": "code",
        "colab": {}
      },
      "source": [
        "#This block of code is used to ensure the input shape is correct\n",
        "\n",
        "if K.image_data_format() == 'channels_first':\n",
        "    input_shape = (3, img_width, img_height)\n",
        "else:\n",
        "    input_shape = (img_width, img_height, 3)"
      ],
      "execution_count": 0,
      "outputs": []
    },
    {
      "cell_type": "code",
      "metadata": {
        "id": "EfKBxGZpKm5D",
        "colab_type": "code",
        "colab": {}
      },
      "source": [
        "#Data Augmentations \n",
        "train_datagen = ImageDataGenerator(\n",
        "    rescale=1. / 255,\n",
        "    shear_range=0.3,\n",
        "    validation_split=0.2,\n",
        "    zoom_range=0.1,\n",
        "    horizontal_flip=True,\n",
        "    rotation_range=30,\n",
        "    fill_mode=\"nearest\")\n"
      ],
      "execution_count": 0,
      "outputs": []
    },
    {
      "cell_type": "markdown",
      "metadata": {
        "id": "S0NCOxrCKm5G",
        "colab_type": "text"
      },
      "source": [
        "The generator is defined below"
      ]
    },
    {
      "cell_type": "code",
      "metadata": {
        "id": "zDgonF6uKm5H",
        "colab_type": "code",
        "outputId": "cb8a8d06-a2a4-4e1a-9684-5c795b4c36c9",
        "colab": {
          "base_uri": "https://localhost:8080/",
          "height": 36
        }
      },
      "source": [
        "#Splitting the Training Set \n",
        "train_generator = train_datagen.flow_from_directory(\n",
        "    data,\n",
        "    target_size=(img_width, img_height),\n",
        "    subset='training',\n",
        "    batch_size=batch_size,\n",
        "    classes=['CU','ECU','EWS','LS','MCU'],\n",
        "    class_mode='categorical')"
      ],
      "execution_count": 0,
      "outputs": [
        {
          "output_type": "stream",
          "text": [
            "Found 2069 images belonging to 5 classes.\n"
          ],
          "name": "stdout"
        }
      ]
    },
    {
      "cell_type": "code",
      "metadata": {
        "id": "HiQWZd-nKfTA",
        "colab_type": "code",
        "outputId": "efc7e863-6814-4646-a9e9-9388f71fe9f8",
        "colab": {
          "base_uri": "https://localhost:8080/",
          "height": 36
        }
      },
      "source": [
        "#Validation Set \n",
        "validation_generator = train_datagen.flow_from_directory(\n",
        "    data,\n",
        "    target_size=(img_width, img_height),\n",
        "    subset='validation',\n",
        "    batch_size=batch_size,\n",
        "    classes=['CU','ECU','EWS','LS','MCU'],\n",
        "    class_mode='categorical')"
      ],
      "execution_count": 0,
      "outputs": [
        {
          "output_type": "stream",
          "text": [
            "Found 513 images belonging to 5 classes.\n"
          ],
          "name": "stdout"
        }
      ]
    },
    {
      "cell_type": "code",
      "metadata": {
        "id": "9Imwh4aQsOz4",
        "colab_type": "code",
        "colab": {}
      },
      "source": [
        "n_training = 2069\n",
        "n_valid = 513\n",
        "\n",
        "epochs = 10"
      ],
      "execution_count": 0,
      "outputs": []
    },
    {
      "cell_type": "markdown",
      "metadata": {
        "id": "jI02tyu25VuP",
        "colab_type": "text"
      },
      "source": [
        "# Shot Types"
      ]
    },
    {
      "cell_type": "code",
      "metadata": {
        "id": "qnpYJpji6ctP",
        "colab_type": "code",
        "outputId": "810aab4c-e61e-4669-9be8-422cff3d72c6",
        "colab": {
          "base_uri": "https://localhost:8080/",
          "height": 131
        }
      },
      "source": [
        "from google.colab import drive\n",
        "drive.mount('/content/drive')"
      ],
      "execution_count": 0,
      "outputs": [
        {
          "output_type": "stream",
          "text": [
            "Go to this URL in a browser: https://accounts.google.com/o/oauth2/auth?client_id=947318989803-6bn6qk8qdgf4n4g3pfee6491hc0brc4i.apps.googleusercontent.com&redirect_uri=urn%3aietf%3awg%3aoauth%3a2.0%3aoob&response_type=code&scope=email%20https%3a%2f%2fwww.googleapis.com%2fauth%2fdocs.test%20https%3a%2f%2fwww.googleapis.com%2fauth%2fdrive%20https%3a%2f%2fwww.googleapis.com%2fauth%2fdrive.photos.readonly%20https%3a%2f%2fwww.googleapis.com%2fauth%2fpeopleapi.readonly\n",
            "\n",
            "Enter your authorization code:\n",
            "··········\n",
            "Mounted at /content/drive\n"
          ],
          "name": "stdout"
        }
      ]
    },
    {
      "cell_type": "markdown",
      "metadata": {
        "id": "kcqTsLPVmHJo",
        "colab_type": "text"
      },
      "source": [
        "# Simple CNN Model"
      ]
    },
    {
      "cell_type": "code",
      "metadata": {
        "id": "IJqkMx3tKm5K",
        "colab_type": "code",
        "colab": {}
      },
      "source": [
        "#Defining the Model \n",
        "model = Sequential()\n",
        "\n",
        "#Model Configuration \n",
        "\n",
        "#1st Hidden Layer\n",
        "model.add(Conv2D(64, (3, 3), input_shape=input_shape))\n",
        "model.add(Activation('relu'))\n",
        "model.add(MaxPooling2D(pool_size=(2, 2)))\n",
        "#2nd Hidden Layer \n",
        "model.add(Flatten())\n",
        "model.add(Dense(64))\n",
        "model.add(Activation('relu'))\n",
        "#output layer \n",
        "model.add(Dense(5))\n",
        "model.add(Activation('softmax'))"
      ],
      "execution_count": 0,
      "outputs": []
    },
    {
      "cell_type": "code",
      "metadata": {
        "id": "kc-8-9s_BivP",
        "colab_type": "code",
        "outputId": "8fa630c5-e741-4694-ae8a-3599a6264ff7",
        "colab": {
          "base_uri": "https://localhost:8080/",
          "height": 454
        }
      },
      "source": [
        "model.summary()"
      ],
      "execution_count": 0,
      "outputs": [
        {
          "output_type": "stream",
          "text": [
            "Model: \"sequential_2\"\n",
            "_________________________________________________________________\n",
            "Layer (type)                 Output Shape              Param #   \n",
            "=================================================================\n",
            "conv2d_2 (Conv2D)            (None, 148, 148, 64)      1792      \n",
            "_________________________________________________________________\n",
            "activation_6 (Activation)    (None, 148, 148, 64)      0         \n",
            "_________________________________________________________________\n",
            "max_pooling2d_2 (MaxPooling2 (None, 74, 74, 64)        0         \n",
            "_________________________________________________________________\n",
            "flatten_2 (Flatten)          (None, 350464)            0         \n",
            "_________________________________________________________________\n",
            "dense_4 (Dense)              (None, 64)                22429760  \n",
            "_________________________________________________________________\n",
            "activation_7 (Activation)    (None, 64)                0         \n",
            "_________________________________________________________________\n",
            "dense_5 (Dense)              (None, 5)                 325       \n",
            "_________________________________________________________________\n",
            "activation_8 (Activation)    (None, 5)                 0         \n",
            "=================================================================\n",
            "Total params: 22,431,877\n",
            "Trainable params: 22,431,877\n",
            "Non-trainable params: 0\n",
            "_________________________________________________________________\n"
          ],
          "name": "stdout"
        }
      ]
    },
    {
      "cell_type": "markdown",
      "metadata": {
        "id": "4pp89nuJniXH",
        "colab_type": "text"
      },
      "source": [
        "### Compiling Model"
      ]
    },
    {
      "cell_type": "code",
      "metadata": {
        "id": "85uyZ1yTKm5M",
        "colab_type": "code",
        "colab": {}
      },
      "source": [
        "#Compiling Model \n",
        "model.compile(loss='categorical_crossentropy',\n",
        "              optimizer='rmsprop',\n",
        "              metrics=['accuracy'])"
      ],
      "execution_count": 0,
      "outputs": []
    },
    {
      "cell_type": "markdown",
      "metadata": {
        "id": "DL5DQn2GnoWk",
        "colab_type": "text"
      },
      "source": [
        "### Fitting the Model "
      ]
    },
    {
      "cell_type": "code",
      "metadata": {
        "id": "NFfKyhLzKm5O",
        "colab_type": "code",
        "outputId": "3bf28a87-8008-4ee2-e75c-8f7479f59562",
        "colab": {
          "base_uri": "https://localhost:8080/",
          "height": 381
        }
      },
      "source": [
        "history = model.fit(\n",
        "    train_generator,\n",
        "    steps_per_epoch=n_training // batch_size,\n",
        "    epochs=epochs,\n",
        "    validation_data=validation_generator,\n",
        "    validation_steps=n_valid // batch_size)"
      ],
      "execution_count": 0,
      "outputs": [
        {
          "output_type": "stream",
          "text": [
            "Epoch 1/10\n",
            "25/25 [==============================] - 679s 27s/step - loss: 4.8696 - accuracy: 0.5965 - val_loss: 1.1890 - val_accuracy: 0.5708\n",
            "Epoch 2/10\n",
            "25/25 [==============================] - 64s 3s/step - loss: 0.7303 - accuracy: 0.7456 - val_loss: 0.9530 - val_accuracy: 0.6646\n",
            "Epoch 3/10\n",
            "25/25 [==============================] - 63s 3s/step - loss: 0.6156 - accuracy: 0.7788 - val_loss: 0.7141 - val_accuracy: 0.7354\n",
            "Epoch 4/10\n",
            "25/25 [==============================] - 62s 2s/step - loss: 0.5170 - accuracy: 0.8185 - val_loss: 1.1439 - val_accuracy: 0.6375\n",
            "Epoch 5/10\n",
            "25/25 [==============================] - 64s 3s/step - loss: 0.4691 - accuracy: 0.8281 - val_loss: 0.7613 - val_accuracy: 0.7250\n",
            "Epoch 6/10\n",
            "25/25 [==============================] - 63s 3s/step - loss: 0.4242 - accuracy: 0.8587 - val_loss: 0.8924 - val_accuracy: 0.6854\n",
            "Epoch 7/10\n",
            "25/25 [==============================] - 63s 3s/step - loss: 0.4000 - accuracy: 0.8527 - val_loss: 0.6476 - val_accuracy: 0.7625\n",
            "Epoch 8/10\n",
            "25/25 [==============================] - 63s 3s/step - loss: 0.3695 - accuracy: 0.8648 - val_loss: 0.5553 - val_accuracy: 0.7958\n",
            "Epoch 9/10\n",
            "25/25 [==============================] - 62s 2s/step - loss: 0.3673 - accuracy: 0.8753 - val_loss: 0.6794 - val_accuracy: 0.7667\n",
            "Epoch 10/10\n",
            "25/25 [==============================] - 62s 2s/step - loss: 0.3220 - accuracy: 0.8904 - val_loss: 0.6126 - val_accuracy: 0.7750\n"
          ],
          "name": "stdout"
        }
      ]
    },
    {
      "cell_type": "markdown",
      "metadata": {
        "id": "PS81ahSXluuz",
        "colab_type": "text"
      },
      "source": [
        "## Plotting the model results"
      ]
    },
    {
      "cell_type": "code",
      "metadata": {
        "id": "ro4S2LXLeQuz",
        "colab_type": "code",
        "outputId": "6c8d77c5-ab43-45fd-efde-702ac7a75825",
        "colab": {
          "base_uri": "https://localhost:8080/",
          "height": 499
        }
      },
      "source": [
        "acc = history.history['accuracy']\n",
        "val_acc = history.history['val_accuracy']\n",
        "\n",
        "loss=history.history['loss']\n",
        "val_loss=history.history['val_loss']\n",
        "\n",
        "epochs_range = range(epochs)\n",
        "\n",
        "plt.figure(figsize=(8, 8))\n",
        "plt.subplot(1, 2, 1)\n",
        "plt.plot(epochs_range, acc, label='Training Accuracy')\n",
        "plt.plot(epochs_range, val_acc, label='Validation Accuracy')\n",
        "plt.legend(loc='lower right')\n",
        "plt.title('Training and Validation Accuracy')\n",
        "\n",
        "plt.subplot(1, 2, 2)\n",
        "plt.plot(epochs_range, loss, label='Training Loss')\n",
        "plt.plot(epochs_range, val_loss, label='Validation Loss')\n",
        "plt.legend(loc='upper right')\n",
        "plt.title('Training and Validation Loss')\n",
        "plt.show()"
      ],
      "execution_count": 0,
      "outputs": [
        {
          "output_type": "display_data",
          "data": {
            "image/png": "[encoded data removed]",
            "text/plain": [
              "<Figure size 576x576 with 2 Axes>"
            ]
          },
          "metadata": {
            "tags": []
          }
        }
      ]
    },
    {
      "cell_type": "markdown",
      "metadata": {
        "id": "H074QvPSnJHE",
        "colab_type": "text"
      },
      "source": [
        "## Saviing the model"
      ]
    },
    {
      "cell_type": "code",
      "metadata": {
        "id": "IO93jRryAw3w",
        "colab_type": "code",
        "outputId": "14094109-41c2-4050-8bf9-c2dfb36236c2",
        "colab": {
          "base_uri": "https://localhost:8080/",
          "height": 451
        }
      },
      "source": [
        "model.save('content/drive/My Drive/Shot Classification Capstone/Train/Models/mymodel.h5')"
      ],
      "execution_count": 0,
      "outputs": [
        {
          "output_type": "error",
          "ename": "OSError",
          "evalue": "ignored",
          "traceback": [
            "\u001b[0;31m---------------------------------------------------------------------------\u001b[0m",
            "\u001b[0;31mOSError\u001b[0m                                   Traceback (most recent call last)",
            "\u001b[0;32m<ipython-input-28-329ab7700f9d>\u001b[0m in \u001b[0;36m<module>\u001b[0;34m()\u001b[0m\n\u001b[0;32m----> 1\u001b[0;31m \u001b[0mmodel\u001b[0m\u001b[0;34m.\u001b[0m\u001b[0msave\u001b[0m\u001b[0;34m(\u001b[0m\u001b[0;34m'content/drive/My Drive/Shot Classification Capstone/Train/Models/mymodel.h5'\u001b[0m\u001b[0;34m)\u001b[0m\u001b[0;34m\u001b[0m\u001b[0;34m\u001b[0m\u001b[0m\n\u001b[0m",
            "\u001b[0;32m/usr/local/lib/python3.6/dist-packages/tensorflow/python/keras/engine/network.py\u001b[0m in \u001b[0;36msave\u001b[0;34m(self, filepath, overwrite, include_optimizer, save_format, signatures, options)\u001b[0m\n\u001b[1;32m   1045\u001b[0m     \"\"\"\n\u001b[1;32m   1046\u001b[0m     save.save_model(self, filepath, overwrite, include_optimizer, save_format,\n\u001b[0;32m-> 1047\u001b[0;31m                     signatures, options)\n\u001b[0m\u001b[1;32m   1048\u001b[0m \u001b[0;34m\u001b[0m\u001b[0m\n\u001b[1;32m   1049\u001b[0m   \u001b[0;32mdef\u001b[0m \u001b[0msave_weights\u001b[0m\u001b[0;34m(\u001b[0m\u001b[0mself\u001b[0m\u001b[0;34m,\u001b[0m \u001b[0mfilepath\u001b[0m\u001b[0;34m,\u001b[0m \u001b[0moverwrite\u001b[0m\u001b[0;34m=\u001b[0m\u001b[0;32mTrue\u001b[0m\u001b[0;34m,\u001b[0m \u001b[0msave_format\u001b[0m\u001b[0;34m=\u001b[0m\u001b[0;32mNone\u001b[0m\u001b[0;34m)\u001b[0m\u001b[0;34m:\u001b[0m\u001b[0;34m\u001b[0m\u001b[0;34m\u001b[0m\u001b[0m\n",
            "\u001b[0;32m/usr/local/lib/python3.6/dist-packages/tensorflow/python/keras/saving/save.py\u001b[0m in \u001b[0;36msave_model\u001b[0;34m(model, filepath, overwrite, include_optimizer, save_format, signatures, options)\u001b[0m\n\u001b[1;32m    133\u001b[0m           'or using `save_weights`.')\n\u001b[1;32m    134\u001b[0m     hdf5_format.save_model_to_hdf5(\n\u001b[0;32m--> 135\u001b[0;31m         model, filepath, overwrite, include_optimizer)\n\u001b[0m\u001b[1;32m    136\u001b[0m   \u001b[0;32melse\u001b[0m\u001b[0;34m:\u001b[0m\u001b[0;34m\u001b[0m\u001b[0;34m\u001b[0m\u001b[0m\n\u001b[1;32m    137\u001b[0m     saved_model_save.save(model, filepath, overwrite, include_optimizer,\n",
            "\u001b[0;32m/usr/local/lib/python3.6/dist-packages/tensorflow/python/keras/saving/hdf5_format.py\u001b[0m in \u001b[0;36msave_model_to_hdf5\u001b[0;34m(model, filepath, overwrite, include_optimizer)\u001b[0m\n\u001b[1;32m     92\u001b[0m         \u001b[0;32mreturn\u001b[0m\u001b[0;34m\u001b[0m\u001b[0;34m\u001b[0m\u001b[0m\n\u001b[1;32m     93\u001b[0m \u001b[0;34m\u001b[0m\u001b[0m\n\u001b[0;32m---> 94\u001b[0;31m     \u001b[0mf\u001b[0m \u001b[0;34m=\u001b[0m \u001b[0mh5py\u001b[0m\u001b[0;34m.\u001b[0m\u001b[0mFile\u001b[0m\u001b[0;34m(\u001b[0m\u001b[0mfilepath\u001b[0m\u001b[0;34m,\u001b[0m \u001b[0mmode\u001b[0m\u001b[0;34m=\u001b[0m\u001b[0;34m'w'\u001b[0m\u001b[0;34m)\u001b[0m\u001b[0;34m\u001b[0m\u001b[0;34m\u001b[0m\u001b[0m\n\u001b[0m\u001b[1;32m     95\u001b[0m     \u001b[0mopened_new_file\u001b[0m \u001b[0;34m=\u001b[0m \u001b[0;32mTrue\u001b[0m\u001b[0;34m\u001b[0m\u001b[0;34m\u001b[0m\u001b[0m\n\u001b[1;32m     96\u001b[0m   \u001b[0;32melse\u001b[0m\u001b[0;34m:\u001b[0m\u001b[0;34m\u001b[0m\u001b[0;34m\u001b[0m\u001b[0m\n",
            "\u001b[0;32m/usr/local/lib/python3.6/dist-packages/h5py/_hl/files.py\u001b[0m in \u001b[0;36m__init__\u001b[0;34m(self, name, mode, driver, libver, userblock_size, swmr, rdcc_nslots, rdcc_nbytes, rdcc_w0, track_order, **kwds)\u001b[0m\n\u001b[1;32m    406\u001b[0m                 fid = make_fid(name, mode, userblock_size,\n\u001b[1;32m    407\u001b[0m                                \u001b[0mfapl\u001b[0m\u001b[0;34m,\u001b[0m \u001b[0mfcpl\u001b[0m\u001b[0;34m=\u001b[0m\u001b[0mmake_fcpl\u001b[0m\u001b[0;34m(\u001b[0m\u001b[0mtrack_order\u001b[0m\u001b[0;34m=\u001b[0m\u001b[0mtrack_order\u001b[0m\u001b[0;34m)\u001b[0m\u001b[0;34m,\u001b[0m\u001b[0;34m\u001b[0m\u001b[0;34m\u001b[0m\u001b[0m\n\u001b[0;32m--> 408\u001b[0;31m                                swmr=swmr)\n\u001b[0m\u001b[1;32m    409\u001b[0m \u001b[0;34m\u001b[0m\u001b[0m\n\u001b[1;32m    410\u001b[0m             \u001b[0;32mif\u001b[0m \u001b[0misinstance\u001b[0m\u001b[0;34m(\u001b[0m\u001b[0mlibver\u001b[0m\u001b[0;34m,\u001b[0m \u001b[0mtuple\u001b[0m\u001b[0;34m)\u001b[0m\u001b[0;34m:\u001b[0m\u001b[0;34m\u001b[0m\u001b[0;34m\u001b[0m\u001b[0m\n",
            "\u001b[0;32m/usr/local/lib/python3.6/dist-packages/h5py/_hl/files.py\u001b[0m in \u001b[0;36mmake_fid\u001b[0;34m(name, mode, userblock_size, fapl, fcpl, swmr)\u001b[0m\n\u001b[1;32m    177\u001b[0m         \u001b[0mfid\u001b[0m \u001b[0;34m=\u001b[0m \u001b[0mh5f\u001b[0m\u001b[0;34m.\u001b[0m\u001b[0mcreate\u001b[0m\u001b[0;34m(\u001b[0m\u001b[0mname\u001b[0m\u001b[0;34m,\u001b[0m \u001b[0mh5f\u001b[0m\u001b[0;34m.\u001b[0m\u001b[0mACC_EXCL\u001b[0m\u001b[0;34m,\u001b[0m \u001b[0mfapl\u001b[0m\u001b[0;34m=\u001b[0m\u001b[0mfapl\u001b[0m\u001b[0;34m,\u001b[0m \u001b[0mfcpl\u001b[0m\u001b[0;34m=\u001b[0m\u001b[0mfcpl\u001b[0m\u001b[0;34m)\u001b[0m\u001b[0;34m\u001b[0m\u001b[0;34m\u001b[0m\u001b[0m\n\u001b[1;32m    178\u001b[0m     \u001b[0;32melif\u001b[0m \u001b[0mmode\u001b[0m \u001b[0;34m==\u001b[0m \u001b[0;34m'w'\u001b[0m\u001b[0;34m:\u001b[0m\u001b[0;34m\u001b[0m\u001b[0;34m\u001b[0m\u001b[0m\n\u001b[0;32m--> 179\u001b[0;31m         \u001b[0mfid\u001b[0m \u001b[0;34m=\u001b[0m \u001b[0mh5f\u001b[0m\u001b[0;34m.\u001b[0m\u001b[0mcreate\u001b[0m\u001b[0;34m(\u001b[0m\u001b[0mname\u001b[0m\u001b[0;34m,\u001b[0m \u001b[0mh5f\u001b[0m\u001b[0;34m.\u001b[0m\u001b[0mACC_TRUNC\u001b[0m\u001b[0;34m,\u001b[0m \u001b[0mfapl\u001b[0m\u001b[0;34m=\u001b[0m\u001b[0mfapl\u001b[0m\u001b[0;34m,\u001b[0m \u001b[0mfcpl\u001b[0m\u001b[0;34m=\u001b[0m\u001b[0mfcpl\u001b[0m\u001b[0;34m)\u001b[0m\u001b[0;34m\u001b[0m\u001b[0;34m\u001b[0m\u001b[0m\n\u001b[0m\u001b[1;32m    180\u001b[0m     \u001b[0;32melif\u001b[0m \u001b[0mmode\u001b[0m \u001b[0;34m==\u001b[0m \u001b[0;34m'a'\u001b[0m\u001b[0;34m:\u001b[0m\u001b[0;34m\u001b[0m\u001b[0;34m\u001b[0m\u001b[0m\n\u001b[1;32m    181\u001b[0m         \u001b[0;31m# Open in append mode (read/write).\u001b[0m\u001b[0;34m\u001b[0m\u001b[0;34m\u001b[0m\u001b[0;34m\u001b[0m\u001b[0m\n",
            "\u001b[0;32mh5py/_objects.pyx\u001b[0m in \u001b[0;36mh5py._objects.with_phil.wrapper\u001b[0;34m()\u001b[0m\n",
            "\u001b[0;32mh5py/_objects.pyx\u001b[0m in \u001b[0;36mh5py._objects.with_phil.wrapper\u001b[0;34m()\u001b[0m\n",
            "\u001b[0;32mh5py/h5f.pyx\u001b[0m in \u001b[0;36mh5py.h5f.create\u001b[0;34m()\u001b[0m\n",
            "\u001b[0;31mOSError\u001b[0m: Unable to create file (unable to open file: name = 'content/drive/My Drive/Shot Classification Capstone/Train/Models/mymodel.h5', errno = 2, error message = 'No such file or directory', flags = 13, o_flags = 242)"
          ]
        }
      ]
    },
    {
      "cell_type": "code",
      "metadata": {
        "id": "YrC6IgdkBO43",
        "colab_type": "code",
        "outputId": "90bdc6c2-3b01-4e05-c127-2d8c65882d28",
        "colab": {
          "base_uri": "https://localhost:8080/",
          "height": 35
        }
      },
      "source": [
        "my_model = load_model('/content/drive/My Drive/Shot Classification Capstone/Train/Models/mymodel.h5')"
      ],
      "execution_count": 0,
      "outputs": [
        {
          "output_type": "stream",
          "text": [
            "WARNING:tensorflow:Error in loading the saved optimizer state. As a result, your model is starting with a freshly initialized optimizer.\n"
          ],
          "name": "stdout"
        }
      ]
    },
    {
      "cell_type": "code",
      "metadata": {
        "id": "nyZjQGOUK14R",
        "colab_type": "code",
        "colab": {}
      },
      "source": [
        "with open('/content/drive/My Drive/Movie Images/Models/myclasses.json','w') as f:\n",
        "  json.dump(train_generator.class_indices,f)\n"
      ],
      "execution_count": 0,
      "outputs": []
    },
    {
      "cell_type": "markdown",
      "metadata": {
        "id": "8_I4KMUkmZ85",
        "colab_type": "text"
      },
      "source": [
        "# 2nd Model "
      ]
    },
    {
      "cell_type": "markdown",
      "metadata": {
        "id": "QAZ1IeybKm5Q",
        "colab_type": "text"
      },
      "source": [
        "Create a new model by adding an additional group of convolution, activation and max pooling layers before the flatten layer. Make the convolution layer of unit size 32. Keep everything else the same."
      ]
    },
    {
      "cell_type": "code",
      "metadata": {
        "id": "651SH4QGKm5Q",
        "colab_type": "code",
        "colab": {}
      },
      "source": [
        "#Initiating model \n",
        "model2 = Sequential()\n",
        "\n",
        "#Configuring model \n",
        "#First Hidden Layer \n",
        "model2.add(Conv2D(64, (3, 3), input_shape=input_shape))\n",
        "model2.add(Activation('relu'))\n",
        "model2.add(MaxPooling2D(pool_size=(2, 2)))\n",
        "#2nd Hidden Layer \n",
        "model2.add(Conv2D(32, (3, 3)))\n",
        "model2.add(Activation('relu'))\n",
        "model2.add(MaxPooling2D(pool_size=(2, 2)))\n",
        "#3rd Hidden Layer \n",
        "model2.add(Flatten())\n",
        "model2.add(Dense(64))\n",
        "model2.add(Activation('relu'))\n",
        "#Output Layer \n",
        "model2.add(Dense(1))\n",
        "model2.add(Activation('sigmoid'))"
      ],
      "execution_count": 0,
      "outputs": []
    },
    {
      "cell_type": "code",
      "metadata": {
        "id": "28aXechUqjWj",
        "colab_type": "code",
        "outputId": "1cfb8777-d3bd-4cea-e30a-e21342993a15",
        "colab": {
          "base_uri": "https://localhost:8080/",
          "height": 578
        }
      },
      "source": [
        "model2.summary()"
      ],
      "execution_count": 0,
      "outputs": [
        {
          "output_type": "stream",
          "text": [
            "Model: \"sequential\"\n",
            "_________________________________________________________________\n",
            "Layer (type)                 Output Shape              Param #   \n",
            "=================================================================\n",
            "conv2d (Conv2D)              (None, 148, 148, 64)      1792      \n",
            "_________________________________________________________________\n",
            "activation (Activation)      (None, 148, 148, 64)      0         \n",
            "_________________________________________________________________\n",
            "max_pooling2d (MaxPooling2D) (None, 74, 74, 64)        0         \n",
            "_________________________________________________________________\n",
            "conv2d_1 (Conv2D)            (None, 72, 72, 32)        18464     \n",
            "_________________________________________________________________\n",
            "activation_1 (Activation)    (None, 72, 72, 32)        0         \n",
            "_________________________________________________________________\n",
            "max_pooling2d_1 (MaxPooling2 (None, 36, 36, 32)        0         \n",
            "_________________________________________________________________\n",
            "flatten (Flatten)            (None, 41472)             0         \n",
            "_________________________________________________________________\n",
            "dense (Dense)                (None, 64)                2654272   \n",
            "_________________________________________________________________\n",
            "activation_2 (Activation)    (None, 64)                0         \n",
            "_________________________________________________________________\n",
            "dense_1 (Dense)              (None, 1)                 65        \n",
            "_________________________________________________________________\n",
            "activation_3 (Activation)    (None, 1)                 0         \n",
            "=================================================================\n",
            "Total params: 2,674,593\n",
            "Trainable params: 2,674,593\n",
            "Non-trainable params: 0\n",
            "_________________________________________________________________\n"
          ],
          "name": "stdout"
        }
      ]
    },
    {
      "cell_type": "markdown",
      "metadata": {
        "id": "dRBiBkicq45H",
        "colab_type": "text"
      },
      "source": [
        "## Compiling Model "
      ]
    },
    {
      "cell_type": "code",
      "metadata": {
        "id": "Lr8569V6q1-0",
        "colab_type": "code",
        "colab": {}
      },
      "source": [
        "model2.compile(loss='binary_crossentropy',\n",
        "              optimizer='rmsprop',\n",
        "              metrics=['accuracy'])"
      ],
      "execution_count": 0,
      "outputs": []
    },
    {
      "cell_type": "markdown",
      "metadata": {
        "id": "7paUn9dXrC3k",
        "colab_type": "text"
      },
      "source": [
        "## Fitting The Model"
      ]
    },
    {
      "cell_type": "code",
      "metadata": {
        "id": "k5nPg_LmKm5S",
        "colab_type": "code",
        "outputId": "b7c8e829-6abd-4793-ea09-e1f3ad8195ad",
        "colab": {
          "base_uri": "https://localhost:8080/",
          "height": 411
        }
      },
      "source": [
        "history = model2.fit(\n",
        "    train_generator,\n",
        "    steps_per_epoch=n_training // batch_size,\n",
        "    epochs=epochs,\n",
        "    validation_data=validation_generator,\n",
        "    validation_steps=n_valid // batch_size)"
      ],
      "execution_count": 0,
      "outputs": [
        {
          "output_type": "stream",
          "text": [
            "Epoch 1/10\n",
            "25/25 [==============================] - 1724s 69s/step - loss: 0.6310 - accuracy: 0.7768 - val_loss: 0.5350 - val_accuracy: 0.8000\n",
            "Epoch 2/10\n",
            "25/25 [==============================] - 101s 4s/step - loss: 0.5193 - accuracy: 0.8000 - val_loss: 0.5164 - val_accuracy: 0.8000\n",
            "Epoch 3/10\n",
            "25/25 [==============================] - 67s 3s/step - loss: 0.5131 - accuracy: 0.8000 - val_loss: 0.5116 - val_accuracy: 0.8000\n",
            "Epoch 4/10\n",
            "25/25 [==============================] - 67s 3s/step - loss: 0.5104 - accuracy: 0.8000 - val_loss: 0.5046 - val_accuracy: 0.8000\n",
            "Epoch 5/10\n",
            "25/25 [==============================] - 70s 3s/step - loss: 0.5078 - accuracy: 0.8000 - val_loss: 0.5091 - val_accuracy: 0.8000\n",
            "Epoch 6/10\n",
            "25/25 [==============================] - 68s 3s/step - loss: 0.5062 - accuracy: 0.8000 - val_loss: 0.5032 - val_accuracy: 0.8000\n",
            "Epoch 7/10\n",
            "25/25 [==============================] - 67s 3s/step - loss: 0.5049 - accuracy: 0.8000 - val_loss: 0.5092 - val_accuracy: 0.8000\n",
            "Epoch 8/10\n",
            "25/25 [==============================] - 68s 3s/step - loss: 0.5043 - accuracy: 0.8000 - val_loss: 0.5040 - val_accuracy: 0.8000\n",
            "Epoch 9/10\n",
            "25/25 [==============================] - 67s 3s/step - loss: 0.5032 - accuracy: 0.8000 - val_loss: 0.5026 - val_accuracy: 0.8000\n",
            "Epoch 10/10\n",
            "25/25 [==============================] - 67s 3s/step - loss: 0.5029 - accuracy: 0.8000 - val_loss: 0.5020 - val_accuracy: 0.8000\n"
          ],
          "name": "stdout"
        }
      ]
    },
    {
      "cell_type": "markdown",
      "metadata": {
        "id": "fHfpSfgyKm5S",
        "colab_type": "text"
      },
      "source": [
        "### plotting the Model"
      ]
    },
    {
      "cell_type": "code",
      "metadata": {
        "id": "MxFyJIzprGp-",
        "colab_type": "code",
        "colab": {}
      },
      "source": [
        "acc = history.history['accuracy']\n",
        "val_acc = history.history['val_accuracy']\n",
        "\n",
        "loss=history.history['loss']\n",
        "val_loss=history.history['val_loss']\n",
        "\n",
        "epochs_range = range(epochs)\n",
        "\n",
        "plt.figure(figsize=(8, 8))\n",
        "plt.subplot(1, 2, 1)\n",
        "plt.plot(epochs_range, acc, label='Training Accuracy')\n",
        "plt.plot(epochs_range, val_acc, label='Validation Accuracy')\n",
        "plt.legend(loc='lower right')\n",
        "plt.title('Training and Validation Accuracy')\n",
        "\n",
        "plt.subplot(1, 2, 2)\n",
        "plt.plot(epochs_range, loss, label='Training Loss')\n",
        "plt.plot(epochs_range, val_loss, label='Validation Loss')\n",
        "plt.legend(loc='upper right')\n",
        "plt.title('Training and Validation Loss')\n",
        "plt.show()"
      ],
      "execution_count": 0,
      "outputs": []
    },
    {
      "cell_type": "markdown",
      "metadata": {
        "id": "-PelP0yPmiVO",
        "colab_type": "text"
      },
      "source": [
        "## 3rd Model"
      ]
    },
    {
      "cell_type": "code",
      "metadata": {
        "id": "KlzEuIt3Km5U",
        "colab_type": "code",
        "colab": {}
      },
      "source": [
        "#Design of Neural network Architecture \n",
        "\n",
        "model = Sequential()\n",
        "\n",
        "#1st Hidden Layer:\n",
        "model.add(Conv2D(64, (3, 3), input_shape=input_shape))\n",
        "model.add(Activation('relu'))\n",
        "model.add(MaxPooling2D(pool_size=(2, 2)))\n",
        "\n",
        "#2nd Hidden Layer:\n",
        "model.add(Conv2D(32, (3, 3)))\n",
        "model.add(Activation('relu'))\n",
        "model.add(MaxPooling2D(pool_size=(2, 2)))\n",
        "\n",
        "model.add(Flatten())\n",
        "model.add(Dense(64))\n",
        "model.add(Activation('relu'))\n",
        "\n",
        "model.add(Dense(64))\n",
        "model.add(Activation('relu'))\n",
        "\n",
        "#\n",
        "model.add(Dense(1))\n",
        "model.add(Activation('sigmoid'))"
      ],
      "execution_count": 0,
      "outputs": []
    },
    {
      "cell_type": "code",
      "metadata": {
        "id": "eqzQbCl8Km5Z",
        "colab_type": "code",
        "colab": {}
      },
      "source": [
        "model = Sequential()\n",
        "model.add(Conv2D(64, (3, 3), input_shape=input_shape))\n",
        "model.add(Activation('relu'))\n",
        "model.add(MaxPooling2D(pool_size=(2, 2)))\n",
        "\n",
        "model.add(Conv2D(32, (3, 3)))\n",
        "model.add(Activation('relu'))\n",
        "model.add(MaxPooling2D(pool_size=(2, 2)))\n",
        "\n",
        "model.add(Flatten())\n",
        "model.add(Dense(64))\n",
        "model.add(Activation('relu'))\n",
        "\n",
        "model.add(Dense(64))\n",
        "model.add(Activation('relu'))\n",
        "\n",
        "model.add(Dense(1))\n",
        "model.add(Activation('sigmoid'))"
      ],
      "execution_count": 0,
      "outputs": []
    },
    {
      "cell_type": "code",
      "metadata": {
        "id": "drRBa855Km5a",
        "colab_type": "code",
        "colab": {}
      },
      "source": [
        "model.compile(loss='binary_crossentropy',\n",
        "              optimizer='adam',\n",
        "              metrics=['accuracy'])\n",
        "\n",
        "model.fit_generator(\n",
        "    train_generator,\n",
        "    steps_per_epoch=25,\n",
        "    epochs=50,\n",
        "    validation_data=validation_generator,\n",
        "    validation_steps=15)"
      ],
      "execution_count": 0,
      "outputs": []
    },
    {
      "cell_type": "markdown",
      "metadata": {
        "id": "GZv9lU2-kh5K",
        "colab_type": "text"
      },
      "source": [
        " # RESNET50 MODEL "
      ]
    },
    {
      "cell_type": "code",
      "metadata": {
        "id": "nMtEjRDSaF2d",
        "colab_type": "code",
        "colab": {}
      },
      "source": [
        "from tensorflow.keras.applications import ResNet50\n",
        "from tensorflow.keras.models import Model "
      ],
      "execution_count": 0,
      "outputs": []
    },
    {
      "cell_type": "code",
      "metadata": {
        "id": "FntQltsgNxfY",
        "colab_type": "code",
        "outputId": "9007a0ad-771c-4b44-c51f-343a8c0d0177",
        "colab": {
          "base_uri": "https://localhost:8080/",
          "height": 54
        }
      },
      "source": [
        "#Definining resnet50 \n",
        "resnet= ResNet50(weights='imagenet',include_top=False,input_shape=input_shape)"
      ],
      "execution_count": 0,
      "outputs": [
        {
          "output_type": "stream",
          "text": [
            "Downloading data from https://storage.googleapis.com/tensorflow/keras-applications/resnet/resnet50_weights_tf_dim_ordering_tf_kernels_notop.h5\n",
            "94773248/94765736 [==============================] - 2s 0us/step\n"
          ],
          "name": "stdout"
        }
      ]
    },
    {
      "cell_type": "code",
      "metadata": {
        "id": "hio8VsnkOqYe",
        "colab_type": "code",
        "colab": {}
      },
      "source": [
        "#Feeding into conv2d\n",
        "x= Conv2D(32,(3,3),activation='relu')(resnet.output)\n",
        "x = MaxPooling2D(2,2)(x)\n",
        "x = Flatten()(x)\n",
        "output = Dense(5,activation='softmax')(x)\n",
        "\n",
        "model2 = Model(inputs=resnet.input,outputs=output)"
      ],
      "execution_count": 0,
      "outputs": []
    },
    {
      "cell_type": "code",
      "metadata": {
        "id": "E0XptVbngBLv",
        "colab_type": "code",
        "colab": {}
      },
      "source": [
        "\n",
        "model2.compile(loss='categorical_crossentropy',\n",
        "              optimizer='rmsprop',\n",
        "              metrics=['accuracy'])"
      ],
      "execution_count": 0,
      "outputs": []
    },
    {
      "cell_type": "code",
      "metadata": {
        "id": "xqPyxy_oQ3z8",
        "colab_type": "code",
        "outputId": "dd7a212d-461f-4c0f-d081-a9619f0f7ef5",
        "colab": {
          "base_uri": "https://localhost:8080/",
          "height": 381
        }
      },
      "source": [
        "history2 = model2.fit(\n",
        "    train_generator,\n",
        "    steps_per_epoch=n_training // batch_size,\n",
        "    epochs=10,\n",
        "    validation_data=validation_generator,\n",
        "    validation_steps=n_valid // batch_size)"
      ],
      "execution_count": 0,
      "outputs": [
        {
          "output_type": "stream",
          "text": [
            "Epoch 1/10\n",
            "25/25 [==============================] - 65s 3s/step - loss: 1.7327 - accuracy: 0.6858 - val_loss: 480.3997 - val_accuracy: 0.5979\n",
            "Epoch 2/10\n",
            "25/25 [==============================] - 64s 3s/step - loss: 0.4409 - accuracy: 0.8522 - val_loss: 3.0110 - val_accuracy: 0.0771\n",
            "Epoch 3/10\n",
            "25/25 [==============================] - 65s 3s/step - loss: 0.4990 - accuracy: 0.8477 - val_loss: 103.9535 - val_accuracy: 0.0812\n",
            "Epoch 4/10\n",
            "25/25 [==============================] - 63s 3s/step - loss: 0.2892 - accuracy: 0.9045 - val_loss: 3123.2502 - val_accuracy: 0.0792\n",
            "Epoch 5/10\n",
            "25/25 [==============================] - 64s 3s/step - loss: 0.4371 - accuracy: 0.8673 - val_loss: 1.6008 - val_accuracy: 0.1000\n",
            "Epoch 6/10\n",
            "25/25 [==============================] - 64s 3s/step - loss: 0.5081 - accuracy: 0.9050 - val_loss: 21763682.0000 - val_accuracy: 0.0771\n",
            "Epoch 7/10\n",
            "25/25 [==============================] - 63s 3s/step - loss: 0.2712 - accuracy: 0.9140 - val_loss: 14125955.0000 - val_accuracy: 0.6125\n",
            "Epoch 8/10\n",
            "25/25 [==============================] - 64s 3s/step - loss: 0.3399 - accuracy: 0.9226 - val_loss: 5834743.5000 - val_accuracy: 0.6062\n",
            "Epoch 9/10\n",
            "25/25 [==============================] - 65s 3s/step - loss: 0.2557 - accuracy: 0.9221 - val_loss: 411.4294 - val_accuracy: 0.0812\n",
            "Epoch 10/10\n",
            "25/25 [==============================] - 63s 3s/step - loss: 0.2266 - accuracy: 0.9346 - val_loss: 8.2811 - val_accuracy: 0.0812\n"
          ],
          "name": "stdout"
        }
      ]
    },
    {
      "cell_type": "code",
      "metadata": {
        "id": "CdOlTFbCkaVb",
        "colab_type": "code",
        "colab": {}
      },
      "source": [
        "epochs = 10"
      ],
      "execution_count": 0,
      "outputs": []
    },
    {
      "cell_type": "code",
      "metadata": {
        "id": "9lbiJOLygPpS",
        "colab_type": "code",
        "outputId": "bf4842af-0a29-4e95-cbf1-a21aed9c2bbd",
        "colab": {
          "base_uri": "https://localhost:8080/",
          "height": 499
        }
      },
      "source": [
        "acc = history2.history['accuracy']\n",
        "val_acc = history2.history['val_accuracy']\n",
        "\n",
        "loss=history2.history['loss']\n",
        "val_loss=history2.history['val_loss']\n",
        "\n",
        "epochs_range = range(epochs)\n",
        "\n",
        "plt.figure(figsize=(8, 8))\n",
        "plt.subplot(1, 2, 1)\n",
        "plt.plot(epochs_range, acc, label='Training Accuracy')\n",
        "plt.plot(epochs_range, val_acc, label='Validation Accuracy')\n",
        "plt.legend(loc='lower right')\n",
        "plt.title('Training and Validation Accuracy')\n",
        "\n",
        "plt.subplot(1, 2, 2)\n",
        "plt.plot(epochs_range, loss, label='Training Loss')\n",
        "plt.plot(epochs_range, val_loss, label='Validation Loss')\n",
        "plt.legend(loc='upper right')\n",
        "plt.title('Training and Validation Loss')\n",
        "plt.show()"
      ],
      "execution_count": 0,
      "outputs": [
        {
          "output_type": "display_data",
          "data": {
            "image/png": "[encoded data removed]",
            "text/plain": [
              "<Figure size 576x576 with 2 Axes>"
            ]
          },
          "metadata": {
            "tags": []
          }
        }
      ]
    },
    {
      "cell_type": "markdown",
      "metadata": {
        "id": "ZEP1fyBTr6-W",
        "colab_type": "text"
      },
      "source": [
        "## VGGNET19"
      ]
    },
    {
      "cell_type": "code",
      "metadata": {
        "id": "1SamSFN1r-Ur",
        "colab_type": "code",
        "colab": {}
      },
      "source": [
        "from tensorflow.keras.applications import VGG19\n",
        "from tensorflow.keras.models import Model "
      ],
      "execution_count": 0,
      "outputs": []
    },
    {
      "cell_type": "code",
      "metadata": {
        "id": "8-4smwiisQUM",
        "colab_type": "code",
        "outputId": "37127813-d7a6-40f8-f051-cabf8d509c97",
        "colab": {
          "base_uri": "https://localhost:8080/",
          "height": 54
        }
      },
      "source": [
        "#Definining VGG19\n",
        "VGG19 = VGG19(weights='imagenet',include_top=False,input_shape=input_shape)"
      ],
      "execution_count": 0,
      "outputs": [
        {
          "output_type": "stream",
          "text": [
            "Downloading data from https://storage.googleapis.com/tensorflow/keras-applications/vgg19/vgg19_weights_tf_dim_ordering_tf_kernels_notop.h5\n",
            "80142336/80134624 [==============================] - 1s 0us/step\n"
          ],
          "name": "stdout"
        }
      ]
    },
    {
      "cell_type": "code",
      "metadata": {
        "id": "Y8ElUy5DsbrQ",
        "colab_type": "code",
        "colab": {}
      },
      "source": [
        "#Feeding into conv2d\n",
        "x= Conv2D(32,(3,3),activation='relu')(VGG19.output)\n",
        "x = MaxPooling2D(2,2)(x)\n",
        "x = Flatten()(x)\n",
        "output = Dense(5,activation='softmax')(x)\n",
        "\n",
        "model3 = Model(inputs=VGG19.input,outputs=output)"
      ],
      "execution_count": 0,
      "outputs": []
    },
    {
      "cell_type": "code",
      "metadata": {
        "id": "d843UFr_Vimr",
        "colab_type": "code",
        "colab": {}
      },
      "source": [
        "model3.compile(loss='categorical_crossentropy',\n",
        "              optimizer='rmsprop',\n",
        "              metrics=['accuracy'])"
      ],
      "execution_count": 0,
      "outputs": []
    },
    {
      "cell_type": "code",
      "metadata": {
        "id": "jjeYZdQrYG8j",
        "colab_type": "code",
        "outputId": "f49cc5f9-510e-415c-d669-d8d81f8792c9",
        "colab": {
          "base_uri": "https://localhost:8080/",
          "height": 381
        }
      },
      "source": [
        "history3 = model3.fit(\n",
        "    train_generator,\n",
        "    steps_per_epoch=n_training // batch_size,\n",
        "    epochs=10,\n",
        "    validation_data=validation_generator,\n",
        "    validation_steps=n_valid // batch_size)"
      ],
      "execution_count": 0,
      "outputs": [
        {
          "output_type": "stream",
          "text": [
            "Epoch 1/10\n",
            "25/25 [==============================] - 65s 3s/step - loss: 55246.6914 - accuracy: 0.5319 - val_loss: 1.1966 - val_accuracy: 0.6146\n",
            "Epoch 2/10\n",
            "25/25 [==============================] - 65s 3s/step - loss: 1.2370 - accuracy: 0.6068 - val_loss: 1.2282 - val_accuracy: 0.5938\n",
            "Epoch 3/10\n",
            "25/25 [==============================] - 64s 3s/step - loss: 1.2580 - accuracy: 0.5872 - val_loss: 1.1964 - val_accuracy: 0.6104\n",
            "Epoch 4/10\n",
            "25/25 [==============================] - 64s 3s/step - loss: 1.3623 - accuracy: 0.5802 - val_loss: 1.1565 - val_accuracy: 0.6042\n",
            "Epoch 5/10\n",
            "25/25 [==============================] - 64s 3s/step - loss: 1.1954 - accuracy: 0.5797 - val_loss: 1.1732 - val_accuracy: 0.6000\n",
            "Epoch 6/10\n",
            "25/25 [==============================] - 64s 3s/step - loss: 1.1562 - accuracy: 0.6154 - val_loss: 1.1977 - val_accuracy: 0.6292\n",
            "Epoch 7/10\n",
            "25/25 [==============================] - 64s 3s/step - loss: 1.2872 - accuracy: 0.5963 - val_loss: 1.2052 - val_accuracy: 0.6125\n",
            "Epoch 8/10\n",
            "25/25 [==============================] - 63s 3s/step - loss: 1.3334 - accuracy: 0.5837 - val_loss: 1.2135 - val_accuracy: 0.6125\n",
            "Epoch 9/10\n",
            "25/25 [==============================] - 64s 3s/step - loss: 1.2418 - accuracy: 0.5990 - val_loss: 1.2198 - val_accuracy: 0.6042\n",
            "Epoch 10/10\n",
            "25/25 [==============================] - 64s 3s/step - loss: 1.4490 - accuracy: 0.5691 - val_loss: 1.2715 - val_accuracy: 0.6000\n"
          ],
          "name": "stdout"
        }
      ]
    },
    {
      "cell_type": "code",
      "metadata": {
        "id": "1up4uHV3VnXW",
        "colab_type": "code",
        "outputId": "7a6ec839-a4f1-413d-9f92-1c93bac3de19",
        "colab": {
          "base_uri": "https://localhost:8080/",
          "height": 244
        }
      },
      "source": [
        "acc = history3.history['accuracy']\n",
        "val_acc = history3.history['val_accuracy']\n",
        "\n",
        "loss=history3.history['loss']\n",
        "val_loss=history3.history['val_loss']\n",
        "\n",
        "epochs_range = range(epochs)\n",
        "\n",
        "plt.figure(figsize=(8, 8))\n",
        "plt.subplot(1, 2, 1)\n",
        "plt.plot(epochs_range, acc, label='Training Accuracy')\n",
        "plt.plot(epochs_range, val_acc, label='Validation Accuracy')\n",
        "plt.legend(loc='lower right')\n",
        "plt.title('Training and Validation Accuracy')\n",
        "\n",
        "plt.subplot(1, 2, 2)\n",
        "plt.plot(epochs_range, loss, label='Training Loss')\n",
        "plt.plot(epochs_range, val_loss, label='Validation Loss')\n",
        "plt.legend(loc='upper right')\n",
        "plt.title('Training and Validation Loss')\n",
        "plt.show()"
      ],
      "execution_count": 0,
      "outputs": [
        {
          "output_type": "error",
          "ename": "NameError",
          "evalue": "ignored",
          "traceback": [
            "\u001b[0;31m---------------------------------------------------------------------------\u001b[0m",
            "\u001b[0;31mNameError\u001b[0m                                 Traceback (most recent call last)",
            "\u001b[0;32m<ipython-input-42-50995f3b7449>\u001b[0m in \u001b[0;36m<module>\u001b[0;34m()\u001b[0m\n\u001b[0;32m----> 1\u001b[0;31m \u001b[0macc\u001b[0m \u001b[0;34m=\u001b[0m \u001b[0mhistory3\u001b[0m\u001b[0;34m.\u001b[0m\u001b[0mhistory\u001b[0m\u001b[0;34m[\u001b[0m\u001b[0;34m'accuracy'\u001b[0m\u001b[0;34m]\u001b[0m\u001b[0;34m\u001b[0m\u001b[0;34m\u001b[0m\u001b[0m\n\u001b[0m\u001b[1;32m      2\u001b[0m \u001b[0mval_acc\u001b[0m \u001b[0;34m=\u001b[0m \u001b[0mhistory3\u001b[0m\u001b[0;34m.\u001b[0m\u001b[0mhistory\u001b[0m\u001b[0;34m[\u001b[0m\u001b[0;34m'val_accuracy'\u001b[0m\u001b[0;34m]\u001b[0m\u001b[0;34m\u001b[0m\u001b[0;34m\u001b[0m\u001b[0m\n\u001b[1;32m      3\u001b[0m \u001b[0;34m\u001b[0m\u001b[0m\n\u001b[1;32m      4\u001b[0m \u001b[0mloss\u001b[0m\u001b[0;34m=\u001b[0m\u001b[0mhistory3\u001b[0m\u001b[0;34m.\u001b[0m\u001b[0mhistory\u001b[0m\u001b[0;34m[\u001b[0m\u001b[0;34m'loss'\u001b[0m\u001b[0;34m]\u001b[0m\u001b[0;34m\u001b[0m\u001b[0;34m\u001b[0m\u001b[0m\n\u001b[1;32m      5\u001b[0m \u001b[0mval_loss\u001b[0m\u001b[0;34m=\u001b[0m\u001b[0mhistory3\u001b[0m\u001b[0;34m.\u001b[0m\u001b[0mhistory\u001b[0m\u001b[0;34m[\u001b[0m\u001b[0;34m'val_loss'\u001b[0m\u001b[0;34m]\u001b[0m\u001b[0;34m\u001b[0m\u001b[0;34m\u001b[0m\u001b[0m\n",
            "\u001b[0;31mNameError\u001b[0m: name 'history3' is not defined"
          ]
        }
      ]
    },
    {
      "cell_type": "markdown",
      "metadata": {
        "id": "0N-vcOCD5rZT",
        "colab_type": "text"
      },
      "source": [
        "# Conclusion "
      ]
    },
    {
      "cell_type": "code",
      "metadata": {
        "id": "wkbG6J_8VvgT",
        "colab_type": "code",
        "colab": {}
      },
      "source": [
        ""
      ],
      "execution_count": 0,
      "outputs": []
    }
  ]
}